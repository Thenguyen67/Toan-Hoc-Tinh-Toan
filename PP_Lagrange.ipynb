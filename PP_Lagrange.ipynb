{
 "cells": [
  {
   "cell_type": "code",
   "execution_count": 1,
   "id": "a1b94c24",
   "metadata": {},
   "outputs": [],
   "source": [
    "from sympy import *"
   ]
  },
  {
   "cell_type": "code",
   "execution_count": 2,
   "id": "b3bcff97",
   "metadata": {},
   "outputs": [],
   "source": [
    "X = [-1 , 0 , 1 , 2]\n",
    "Y = [4 , 3 , 2 , 7]"
   ]
  },
  {
   "cell_type": "code",
   "execution_count": 3,
   "id": "a578e9ad",
   "metadata": {},
   "outputs": [],
   "source": [
    "def L(i , x) :\n",
    "    prod = 1\n",
    "    for j in range (4) :\n",
    "        if j != i :\n",
    "            prod *= (x - X[j]) / (X[i] - X[j])\n",
    "    return prod"
   ]
  },
  {
   "cell_type": "code",
   "execution_count": 4,
   "id": "bfb2fd8b",
   "metadata": {},
   "outputs": [
    {
     "data": {
      "text/latex": [
       "$\\displaystyle - \\frac{x^{3}}{6} + \\frac{x^{2}}{2} - \\frac{x}{3}$"
      ],
      "text/plain": [
       "-x**3/6 + x**2/2 - x/3"
      ]
     },
     "execution_count": 4,
     "metadata": {},
     "output_type": "execute_result"
    }
   ],
   "source": [
    "x = symbols('x')\n",
    "L(0 , x).expand()"
   ]
  },
  {
   "cell_type": "code",
   "execution_count": 5,
   "id": "500e6f54",
   "metadata": {},
   "outputs": [],
   "source": [
    "P = 0\n",
    "for i in range (4) :\n",
    "    P += Y[i] * L(i , x)"
   ]
  },
  {
   "cell_type": "code",
   "execution_count": 6,
   "id": "297c53d1",
   "metadata": {},
   "outputs": [
    {
     "data": {
      "text/latex": [
       "$\\displaystyle x^{3} - 2 x + 3$"
      ],
      "text/plain": [
       "x**3 - 2*x + 3"
      ]
     },
     "execution_count": 6,
     "metadata": {},
     "output_type": "execute_result"
    }
   ],
   "source": [
    "P.expand()"
   ]
  }
 ],
 "metadata": {
  "kernelspec": {
   "display_name": "Python 3",
   "language": "python",
   "name": "python3"
  },
  "language_info": {
   "codemirror_mode": {
    "name": "ipython",
    "version": 3
   },
   "file_extension": ".py",
   "mimetype": "text/x-python",
   "name": "python",
   "nbconvert_exporter": "python",
   "pygments_lexer": "ipython3",
   "version": "3.13.3"
  }
 },
 "nbformat": 4,
 "nbformat_minor": 5
}
