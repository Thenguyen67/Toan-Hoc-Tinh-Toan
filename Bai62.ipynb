{
 "cells": [
  {
   "cell_type": "code",
   "execution_count": 18,
   "id": "8066d133",
   "metadata": {},
   "outputs": [],
   "source": [
    "import numpy as np"
   ]
  },
  {
   "cell_type": "code",
   "execution_count": 19,
   "id": "7336d5ad",
   "metadata": {},
   "outputs": [],
   "source": [
    "B = np.array(\n",
    "    [[0.15 , -0.11 , -0.01] ,\n",
    "     [-0.265 , 0.1 , 0.215] ,\n",
    "     [0.075 , -0.185 , -0.29]]\n",
    ")"
   ]
  },
  {
   "cell_type": "code",
   "execution_count": null,
   "id": "47800626",
   "metadata": {},
   "outputs": [],
   "source": [
    "g = np.array([3.54 , -1.16 , 3.74])"
   ]
  },
  {
   "cell_type": "code",
   "execution_count": 22,
   "id": "8ddaf418",
   "metadata": {},
   "outputs": [
    {
     "name": "stdout",
     "output_type": "stream",
     "text": [
      "[ 3.76  -0.665  2.84 ] 3.811428571428571\n",
      "[ 4.14875  -1.6123    3.321425] 1.3081761904761904\n",
      "[ 4.30645125 -1.70654238  3.3862185 ] 0.2177779166666674\n",
      "[ 4.33982516 -1.74382684  3.39669082] 0.051488072440476235\n"
     ]
    }
   ],
   "source": [
    "x0 = np.array([1 , -1 , 4])\n",
    "for _ in range(4):\n",
    "    x = np.dot(B , x0) + g\n",
    "    ss = q / (1 - q) * np.linalg.norm(x - x0 , np.inf)\n",
    "    x0 = x\n",
    "    print(x ,ss)"
   ]
  }
 ],
 "metadata": {
  "kernelspec": {
   "display_name": "Python 3",
   "language": "python",
   "name": "python3"
  },
  "language_info": {
   "codemirror_mode": {
    "name": "ipython",
    "version": 3
   },
   "file_extension": ".py",
   "mimetype": "text/x-python",
   "name": "python",
   "nbconvert_exporter": "python",
   "pygments_lexer": "ipython3",
   "version": "3.13.3"
  }
 },
 "nbformat": 4,
 "nbformat_minor": 5
}
