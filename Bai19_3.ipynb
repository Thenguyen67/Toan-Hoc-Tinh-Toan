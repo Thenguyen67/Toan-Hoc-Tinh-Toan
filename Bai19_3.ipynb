{
 "cells": [
  {
   "cell_type": "code",
   "execution_count": 1,
   "id": "ee7706de",
   "metadata": {},
   "outputs": [],
   "source": [
    "X = [-3 , -1 , 1 , 3]\n",
    "Y = [-16 , 2 , 4 , -10]"
   ]
  },
  {
   "cell_type": "code",
   "execution_count": 2,
   "id": "b841ef4f",
   "metadata": {},
   "outputs": [],
   "source": [
    "def L(i , x) :\n",
    "    prod = 1\n",
    "    for j in range(4) :\n",
    "        if j != i :\n",
    "            prod *= (x - X[j]) / (X[i] - X[j])\n",
    "    return prod "
   ]
  },
  {
   "cell_type": "code",
   "execution_count": 3,
   "id": "d5e1a692",
   "metadata": {},
   "outputs": [
    {
     "data": {
      "text/latex": [
       "$\\displaystyle - \\frac{x^{3}}{48} + \\frac{x^{2}}{16} + \\frac{x}{48} - \\frac{1}{16}$"
      ],
      "text/plain": [
       "-x**3/48 + x**2/16 + x/48 - 1/16"
      ]
     },
     "execution_count": 3,
     "metadata": {},
     "output_type": "execute_result"
    }
   ],
   "source": [
    "from sympy import *\n",
    "x = symbols('x')\n",
    "L(0 , x)\n",
    "L(0 , x).expand()"
   ]
  },
  {
   "cell_type": "code",
   "execution_count": 4,
   "id": "278cf2b5",
   "metadata": {},
   "outputs": [
    {
     "data": {
      "text/latex": [
       "$\\displaystyle - 2 x^{2} + x + 5$"
      ],
      "text/plain": [
       "-2*x**2 + x + 5"
      ]
     },
     "execution_count": 4,
     "metadata": {},
     "output_type": "execute_result"
    }
   ],
   "source": [
    "p = 0\n",
    "for i in range(4) :\n",
    "    p += Y[i] * L(i , x)\n",
    "p.expand()"
   ]
  }
 ],
 "metadata": {
  "kernelspec": {
   "display_name": "Python 3",
   "language": "python",
   "name": "python3"
  },
  "language_info": {
   "codemirror_mode": {
    "name": "ipython",
    "version": 3
   },
   "file_extension": ".py",
   "mimetype": "text/x-python",
   "name": "python",
   "nbconvert_exporter": "python",
   "pygments_lexer": "ipython3",
   "version": "3.13.3"
  }
 },
 "nbformat": 4,
 "nbformat_minor": 5
}
