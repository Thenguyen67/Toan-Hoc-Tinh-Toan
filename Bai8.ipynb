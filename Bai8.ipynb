{
 "cells": [
  {
   "cell_type": "code",
   "execution_count": 12,
   "id": "a4a8ac67",
   "metadata": {},
   "outputs": [
    {
     "data": {
      "text/latex": [
       "$\\displaystyle -2$"
      ],
      "text/plain": [
       "-2"
      ]
     },
     "execution_count": 12,
     "metadata": {},
     "output_type": "execute_result"
    }
   ],
   "source": [
    "from sympy import *\n",
    "import numpy as np\n",
    "f = lambda x : x**3 + ln(x) - 3\n",
    "f(1)"
   ]
  },
  {
   "cell_type": "code",
   "execution_count": 13,
   "id": "28c9387f",
   "metadata": {},
   "outputs": [
    {
     "data": {
      "text/latex": [
       "$\\displaystyle 62.3862943611199$"
      ],
      "text/plain": [
       "62.3862943611199"
      ]
     },
     "execution_count": 13,
     "metadata": {},
     "output_type": "execute_result"
    }
   ],
   "source": [
    "f(4.)"
   ]
  },
  {
   "cell_type": "code",
   "execution_count": 14,
   "id": "577bb940",
   "metadata": {},
   "outputs": [
    {
     "data": {
      "text/latex": [
       "$\\displaystyle 5$"
      ],
      "text/plain": [
       "5"
      ]
     },
     "execution_count": 14,
     "metadata": {},
     "output_type": "execute_result"
    }
   ],
   "source": [
    "x = symbols('x')\n",
    "f(x).diff(x , 2).subs(x , 1)"
   ]
  },
  {
   "cell_type": "code",
   "execution_count": 15,
   "id": "1bb1fafe",
   "metadata": {},
   "outputs": [
    {
     "data": {
      "text/latex": [
       "$\\displaystyle x^{3} + \\log{\\left(x \\right)} - 3$"
      ],
      "text/plain": [
       "x**3 + log(x) - 3"
      ]
     },
     "execution_count": 15,
     "metadata": {},
     "output_type": "execute_result"
    }
   ],
   "source": [
    "f(x)"
   ]
  },
  {
   "cell_type": "code",
   "execution_count": 16,
   "id": "da4fcaee",
   "metadata": {},
   "outputs": [
    {
     "data": {
      "text/latex": [
       "$\\displaystyle 4$"
      ],
      "text/plain": [
       "4"
      ]
     },
     "execution_count": 16,
     "metadata": {},
     "output_type": "execute_result"
    }
   ],
   "source": [
    "M = 23.9375\n",
    "t = symbols('t')\n",
    "df = lambda x : f(t).diff().subs(t , x)\n",
    "m = min(abs(df(1)) , abs(df(4)))\n",
    "m"
   ]
  },
  {
   "cell_type": "code",
   "execution_count": 17,
   "id": "025f988a",
   "metadata": {},
   "outputs": [
    {
     "name": "stdout",
     "output_type": "stream",
     "text": [
      "5.29298 5.00233\n",
      "7.03752 9.10646\n",
      "9.37406 16.3357\n"
     ]
    }
   ],
   "source": [
    "x0 = 4.\n",
    "for _ in range (3) :\n",
    "    x = x0 + f(x0) / df(x0)\n",
    "    ss = M / 2 / m * (x - x0)**2\n",
    "    x0 = x\n",
    "    print(N(x , 6) , N(ss , 6))"
   ]
  }
 ],
 "metadata": {
  "kernelspec": {
   "display_name": "Python 3",
   "language": "python",
   "name": "python3"
  },
  "language_info": {
   "codemirror_mode": {
    "name": "ipython",
    "version": 3
   },
   "file_extension": ".py",
   "mimetype": "text/x-python",
   "name": "python",
   "nbconvert_exporter": "python",
   "pygments_lexer": "ipython3",
   "version": "3.13.3"
  }
 },
 "nbformat": 4,
 "nbformat_minor": 5
}
