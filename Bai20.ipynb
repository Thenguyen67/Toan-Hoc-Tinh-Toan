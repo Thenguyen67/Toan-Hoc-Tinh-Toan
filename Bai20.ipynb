{
 "cells": [
  {
   "cell_type": "code",
   "execution_count": 1,
   "id": "c9ba576e",
   "metadata": {},
   "outputs": [
    {
     "name": "stdout",
     "output_type": "stream",
     "text": [
      "   3     2\n",
      "1 x - 2 x + 3 x - 1\n"
     ]
    }
   ],
   "source": [
    "from scipy.interpolate import lagrange\n",
    "import numpy as np\n",
    "X = np.array([0 , 0.5 , 1 , 1.5 , 2])\n",
    "Y = np.array([-1 , 0.125 , 1 , 2.375 , 5])\n",
    "P = lagrange(X , Y)\n",
    "print(P)"
   ]
  }
 ],
 "metadata": {
  "kernelspec": {
   "display_name": "Python 3",
   "language": "python",
   "name": "python3"
  },
  "language_info": {
   "codemirror_mode": {
    "name": "ipython",
    "version": 3
   },
   "file_extension": ".py",
   "mimetype": "text/x-python",
   "name": "python",
   "nbconvert_exporter": "python",
   "pygments_lexer": "ipython3",
   "version": "3.13.3"
  }
 },
 "nbformat": 4,
 "nbformat_minor": 5
}
