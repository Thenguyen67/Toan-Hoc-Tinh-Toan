{
 "cells": [
  {
   "cell_type": "code",
   "execution_count": 16,
   "id": "2db23ad0",
   "metadata": {},
   "outputs": [],
   "source": [
    "from sympy import *\n",
    "import numpy as np"
   ]
  },
  {
   "cell_type": "code",
   "execution_count": 17,
   "id": "be039c40",
   "metadata": {},
   "outputs": [],
   "source": [
    "f = lambda x , y : np.array([y[0] - y[1] + 2 , -y[0] + y[1] + 4*x])"
   ]
  },
  {
   "cell_type": "code",
   "execution_count": 18,
   "id": "23ab41b4",
   "metadata": {},
   "outputs": [],
   "source": [
    "y = np.array([-1 , 0])\n",
    "X = [0 , 0.2 , 0.4 , 0.6 , 0.8 , 1]"
   ]
  },
  {
   "cell_type": "code",
   "execution_count": 19,
   "id": "0c45a702",
   "metadata": {},
   "outputs": [
    {
     "name": "stdout",
     "output_type": "stream",
     "text": [
      "[-0.652  0.572]\n",
      "[-0.44855467  1.55522133]\n",
      "[-0.63716958  3.19716958]\n",
      "[-1.68579528  5.96579528]\n",
      "[-4.47917028 10.74583695]\n"
     ]
    }
   ],
   "source": [
    "for n in range(5) :\n",
    "    h = X[n+1] - X[n]\n",
    "    k1 = h * f(X[n] , y)\n",
    "    k2 = h * f(X[n] + h/2 , y + k1/2)\n",
    "    k3 = h * f(X[n] + h/2 , y + k2/2)\n",
    "    k4 = h + f(X[n] + h , y + k3)\n",
    "    y = y + (k1 + 2*k2 + 2*k3 + k4)/6\n",
    "    print(y)"
   ]
  }
 ],
 "metadata": {
  "kernelspec": {
   "display_name": "Python 3",
   "language": "python",
   "name": "python3"
  },
  "language_info": {
   "codemirror_mode": {
    "name": "ipython",
    "version": 3
   },
   "file_extension": ".py",
   "mimetype": "text/x-python",
   "name": "python",
   "nbconvert_exporter": "python",
   "pygments_lexer": "ipython3",
   "version": "3.13.3"
  }
 },
 "nbformat": 4,
 "nbformat_minor": 5
}
