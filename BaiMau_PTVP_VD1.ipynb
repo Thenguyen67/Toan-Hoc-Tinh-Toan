{
 "cells": [
  {
   "cell_type": "code",
   "execution_count": 1,
   "id": "26c2c27c",
   "metadata": {},
   "outputs": [],
   "source": [
    "f = lambda x , y : y - x"
   ]
  },
  {
   "cell_type": "code",
   "execution_count": 3,
   "id": "093909d3",
   "metadata": {},
   "outputs": [],
   "source": [
    "x0 = 0\n",
    "y0 = 2"
   ]
  },
  {
   "cell_type": "code",
   "execution_count": 15,
   "id": "a7ad7cb4",
   "metadata": {},
   "outputs": [
    {
     "data": {
      "text/plain": [
       "2.2"
      ]
     },
     "execution_count": 15,
     "metadata": {},
     "output_type": "execute_result"
    }
   ],
   "source": [
    "x1 = 0.1\n",
    "h0 = x1 - x0\n",
    "y1 = y0 + h0 * f(x0 , y0)\n",
    "y1"
   ]
  },
  {
   "cell_type": "code",
   "execution_count": 16,
   "id": "cbb85a15",
   "metadata": {},
   "outputs": [
    {
     "data": {
      "text/plain": [
       "2.62"
      ]
     },
     "execution_count": 16,
     "metadata": {},
     "output_type": "execute_result"
    }
   ],
   "source": [
    "x2 = 0.3\n",
    "h2 = x2 - x1\n",
    "y2 = y1 + h1 * f(x1 , y1)\n",
    "y2"
   ]
  },
  {
   "cell_type": "code",
   "execution_count": 17,
   "id": "16ad2b99",
   "metadata": {},
   "outputs": [
    {
     "data": {
      "text/plain": [
       "3.084"
      ]
     },
     "execution_count": 17,
     "metadata": {},
     "output_type": "execute_result"
    }
   ],
   "source": [
    "x3 = 0.5\n",
    "h1 = x3 - x2\n",
    "y3 = y2 + h2 * f(x2 , y2)\n",
    "y3"
   ]
  },
  {
   "cell_type": "code",
   "execution_count": null,
   "id": "6d769553",
   "metadata": {},
   "outputs": [],
   "source": []
  }
 ],
 "metadata": {
  "kernelspec": {
   "display_name": "Python 3",
   "language": "python",
   "name": "python3"
  },
  "language_info": {
   "codemirror_mode": {
    "name": "ipython",
    "version": 3
   },
   "file_extension": ".py",
   "mimetype": "text/x-python",
   "name": "python",
   "nbconvert_exporter": "python",
   "pygments_lexer": "ipython3",
   "version": "3.13.3"
  }
 },
 "nbformat": 4,
 "nbformat_minor": 5
}
