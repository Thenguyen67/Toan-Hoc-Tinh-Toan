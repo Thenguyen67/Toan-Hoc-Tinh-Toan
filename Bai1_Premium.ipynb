{
 "cells": [
  {
   "cell_type": "code",
   "execution_count": 58,
   "id": "04cd9edc",
   "metadata": {},
   "outputs": [],
   "source": [
    "from sympy import *\n",
    "import numpy as np"
   ]
  },
  {
   "cell_type": "code",
   "execution_count": 59,
   "id": "2571b1d4",
   "metadata": {},
   "outputs": [
    {
     "data": {
      "text/plain": [
       "-3.0"
      ]
     },
     "execution_count": 59,
     "metadata": {},
     "output_type": "execute_result"
    }
   ],
   "source": [
    "f = lambda x : x**3 - x**2 - 3\n",
    "f(1.)"
   ]
  },
  {
   "cell_type": "code",
   "execution_count": 60,
   "id": "732ae982",
   "metadata": {},
   "outputs": [
    {
     "data": {
      "text/plain": [
       "45.0"
      ]
     },
     "execution_count": 60,
     "metadata": {},
     "output_type": "execute_result"
    }
   ],
   "source": [
    "f(4.)"
   ]
  },
  {
   "cell_type": "code",
   "execution_count": 61,
   "id": "68705ac0",
   "metadata": {},
   "outputs": [
    {
     "data": {
      "text/latex": [
       "$\\displaystyle 4$"
      ],
      "text/plain": [
       "4"
      ]
     },
     "execution_count": 61,
     "metadata": {},
     "output_type": "execute_result"
    }
   ],
   "source": [
    "x = symbols('x')\n",
    "f(x).diff(x , 2).subs(x , 1)"
   ]
  },
  {
   "cell_type": "code",
   "execution_count": 62,
   "id": "6bf7a33c",
   "metadata": {},
   "outputs": [
    {
     "data": {
      "text/latex": [
       "$\\displaystyle 22$"
      ],
      "text/plain": [
       "22"
      ]
     },
     "execution_count": 62,
     "metadata": {},
     "output_type": "execute_result"
    }
   ],
   "source": [
    "f(x).diff(x , 2).subs(x , 4)"
   ]
  },
  {
   "cell_type": "code",
   "execution_count": 63,
   "id": "5e7e75ec",
   "metadata": {},
   "outputs": [
    {
     "name": "stdout",
     "output_type": "stream",
     "text": [
      "2.87500 13.9219\n",
      "2.21883 4.73619\n",
      "1.92841 0.927734\n"
     ]
    }
   ],
   "source": [
    "M = 22\n",
    "t = symbols('t')\n",
    "df = lambda x : f(t).diff().subs(t , x)\n",
    "m = min(abs(df(1)) , abs(df(4)))\n",
    "m\n",
    "x0 = 4.\n",
    "for _ in range(3) :\n",
    "    x = x0 - f(x0) / df(x0)\n",
    "    ss = M / 2 / m * (x - x0)**2\n",
    "    x0 = x\n",
    "    print(N(x , 6) , N(ss , 6))"
   ]
  },
  {
   "cell_type": "code",
   "execution_count": null,
   "id": "2d680f94",
   "metadata": {},
   "outputs": [],
   "source": []
  }
 ],
 "metadata": {
  "kernelspec": {
   "display_name": "Python 3",
   "language": "python",
   "name": "python3"
  },
  "language_info": {
   "codemirror_mode": {
    "name": "ipython",
    "version": 3
   },
   "file_extension": ".py",
   "mimetype": "text/x-python",
   "name": "python",
   "nbconvert_exporter": "python",
   "pygments_lexer": "ipython3",
   "version": "3.13.3"
  }
 },
 "nbformat": 4,
 "nbformat_minor": 5
}
