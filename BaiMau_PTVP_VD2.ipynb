{
 "cells": [
  {
   "cell_type": "code",
   "execution_count": 10,
   "id": "034a982c",
   "metadata": {},
   "outputs": [],
   "source": [
    "from sympy import *\n",
    "import numpy as np"
   ]
  },
  {
   "cell_type": "code",
   "execution_count": 11,
   "id": "c85c9030",
   "metadata": {},
   "outputs": [],
   "source": [
    "f = lambda x , Y : np.array([x * Y[0] - Y[1] , Y[0] + Y[1] -1])"
   ]
  },
  {
   "cell_type": "code",
   "execution_count": 12,
   "id": "c3856e79",
   "metadata": {},
   "outputs": [],
   "source": [
    "x0 = 1\n",
    "y0 = np.array([-1 , 2])"
   ]
  },
  {
   "cell_type": "code",
   "execution_count": 13,
   "id": "0d4efd38",
   "metadata": {},
   "outputs": [
    {
     "data": {
      "text/plain": [
       "array([-1.6,  2. ])"
      ]
     },
     "execution_count": 13,
     "metadata": {},
     "output_type": "execute_result"
    }
   ],
   "source": [
    "x1 = 1.2\n",
    "h0 = x1 - x0\n",
    "y1 = y0 + h0 * f(x0 , y0)\n",
    "y1"
   ]
  },
  {
   "cell_type": "code",
   "execution_count": 14,
   "id": "d9ff44ae",
   "metadata": {},
   "outputs": [
    {
     "data": {
      "text/plain": [
       "array([-2.384,  1.88 ])"
      ]
     },
     "execution_count": 14,
     "metadata": {},
     "output_type": "execute_result"
    }
   ],
   "source": [
    "x2 = 1.4\n",
    "h1 = x2 - x1\n",
    "y2 = y1 + h1 * f(x1 , y1)\n",
    "y2"
   ]
  },
  {
   "cell_type": "code",
   "execution_count": 15,
   "id": "683e0945",
   "metadata": {},
   "outputs": [
    {
     "data": {
      "text/plain": [
       "array([-2.90576,  1.7296 ])"
      ]
     },
     "execution_count": 15,
     "metadata": {},
     "output_type": "execute_result"
    }
   ],
   "source": [
    "x3 = 1.5\n",
    "h2 = x3 - x2\n",
    "y3 = y2 + h2 * f(x2 , y2)\n",
    "y3"
   ]
  }
 ],
 "metadata": {
  "kernelspec": {
   "display_name": "Python 3",
   "language": "python",
   "name": "python3"
  },
  "language_info": {
   "codemirror_mode": {
    "name": "ipython",
    "version": 3
   },
   "file_extension": ".py",
   "mimetype": "text/x-python",
   "name": "python",
   "nbconvert_exporter": "python",
   "pygments_lexer": "ipython3",
   "version": "3.13.3"
  }
 },
 "nbformat": 4,
 "nbformat_minor": 5
}
