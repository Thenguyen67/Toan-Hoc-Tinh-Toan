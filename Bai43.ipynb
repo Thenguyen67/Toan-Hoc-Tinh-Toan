{
 "cells": [
  {
   "cell_type": "code",
   "execution_count": 27,
   "id": "bf2772a5",
   "metadata": {},
   "outputs": [],
   "source": [
    "from sympy import *"
   ]
  },
  {
   "cell_type": "code",
   "execution_count": 28,
   "id": "bcdc9fd7",
   "metadata": {},
   "outputs": [],
   "source": [
    "f = lambda x , y : x * E**(3*x) - 2*y"
   ]
  },
  {
   "cell_type": "code",
   "execution_count": 29,
   "id": "bfa5f9e1",
   "metadata": {},
   "outputs": [],
   "source": [
    "X = [0 , 0.5 , 1]"
   ]
  },
  {
   "cell_type": "code",
   "execution_count": 30,
   "id": "340376a3",
   "metadata": {},
   "outputs": [],
   "source": [
    "y = 0"
   ]
  },
  {
   "cell_type": "code",
   "execution_count": 31,
   "id": "15f7ee6c",
   "metadata": {},
   "outputs": [
    {
     "name": "stdout",
     "output_type": "stream",
     "text": [
      "0\n",
      "1.12042226758452\n"
     ]
    }
   ],
   "source": [
    "for i in range(2):\n",
    "    h = X[i+1] - X[i]\n",
    "    y = y + h * f(X[i] , y)\n",
    "    print(y)"
   ]
  }
 ],
 "metadata": {
  "kernelspec": {
   "display_name": "Python 3",
   "language": "python",
   "name": "python3"
  },
  "language_info": {
   "codemirror_mode": {
    "name": "ipython",
    "version": 3
   },
   "file_extension": ".py",
   "mimetype": "text/x-python",
   "name": "python",
   "nbconvert_exporter": "python",
   "pygments_lexer": "ipython3",
   "version": "3.13.3"
  }
 },
 "nbformat": 4,
 "nbformat_minor": 5
}
