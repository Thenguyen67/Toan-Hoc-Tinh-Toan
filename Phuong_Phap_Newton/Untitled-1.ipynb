{
 "cells": [
  {
   "cell_type": "code",
   "execution_count": 10,
   "id": "4ee5f83e",
   "metadata": {},
   "outputs": [],
   "source": [
    "from sympy import *\n",
    "f = lambda x: x**3 - x**2 - 3\n"
   ]
  },
  {
   "cell_type": "code",
   "execution_count": 11,
   "id": "0c10c39e",
   "metadata": {},
   "outputs": [],
   "source": [
    "import numpy as np\n",
    "X = np.linspace(1 , 4 , 101 )"
   ]
  },
  {
   "cell_type": "code",
   "execution_count": 12,
   "id": "ae99970c",
   "metadata": {},
   "outputs": [
    {
     "data": {
      "image/png": "[encoded data removed]",
      "text/plain": [
       "<Figure size 640x480 with 1 Axes>"
      ]
     },
     "metadata": {},
     "output_type": "display_data"
    }
   ],
   "source": [
    "Y = [ f(x) for x in X ]\n",
    "import matplotlib.pyplot as plt \n",
    "plt.plot( X , Y ) ;"
   ]
  },
  {
   "cell_type": "code",
   "execution_count": 13,
   "id": "8ec3da94",
   "metadata": {},
   "outputs": [
    {
     "data": {
      "text/latex": [
       "$\\displaystyle 2 \\left(3 x - 1\\right)$"
      ],
      "text/plain": [
       "2*(3*x - 1)"
      ]
     },
     "execution_count": 13,
     "metadata": {},
     "output_type": "execute_result"
    }
   ],
   "source": [
    "x = symbols('x')\n",
    "f(x).diff(x , 2)"
   ]
  },
  {
   "cell_type": "code",
   "execution_count": 14,
   "id": "fd5f1ddb",
   "metadata": {},
   "outputs": [
    {
     "data": {
      "text/plain": [
       "-3"
      ]
     },
     "execution_count": 14,
     "metadata": {},
     "output_type": "execute_result"
    }
   ],
   "source": [
    "f(x).diff().subs(x , 1)\n",
    "\n",
    "f(1)"
   ]
  },
  {
   "cell_type": "code",
   "execution_count": 15,
   "id": "c04bc207",
   "metadata": {},
   "outputs": [
    {
     "data": {
      "text/plain": [
       "45"
      ]
     },
     "execution_count": 15,
     "metadata": {},
     "output_type": "execute_result"
    }
   ],
   "source": [
    "f(4)"
   ]
  },
  {
   "cell_type": "code",
   "execution_count": 16,
   "id": "0ba5e38b",
   "metadata": {},
   "outputs": [],
   "source": [
    "t = symbols('t')\n",
    "df = lambda x: f(t).diff().subs(t , x)"
   ]
  },
  {
   "cell_type": "code",
   "execution_count": 17,
   "id": "71fa1fb9",
   "metadata": {},
   "outputs": [
    {
     "name": "stdout",
     "output_type": "stream",
     "text": [
      "2.87500000000000\n",
      "2.21882690730107\n",
      "1.92841442459661\n"
     ]
    }
   ],
   "source": [
    "x = 4.\n",
    "for _ in range (3) :\n",
    "    x = x - f(x) / df(x)\n",
    "    print(x)"
   ]
  },
  {
   "cell_type": "code",
   "execution_count": 18,
   "id": "259627f3",
   "metadata": {},
   "outputs": [
    {
     "name": "stdout",
     "output_type": "stream",
     "text": [
      "2.87500000000000 13.9218750000000\n",
      "2.21882690730107 4.73619440340292\n",
      "1.92841442459661 0.927733511216212\n"
     ]
    }
   ],
   "source": [
    "M = 22\n",
    "m = min( abs(df(1)) , abs(df(4)) )\n",
    "\n",
    "x0 = 4.\n",
    "for _ in range(3) : \n",
    "    x = x0 - f(x0) / df(x0)\n",
    "    ss = M / 2 / m * ( x - x0) ** 2\n",
    "    x0 = x \n",
    "    print(x , ss)\n",
    "    "
   ]
  },
  {
   "cell_type": "code",
   "execution_count": 19,
   "id": "ec94042a",
   "metadata": {},
   "outputs": [],
   "source": [
    "d2f = lambda x : f(t).diff(t , 2).subs(t , x)"
   ]
  },
  {
   "cell_type": "code",
   "execution_count": 20,
   "id": "4af16aa1",
   "metadata": {},
   "outputs": [],
   "source": [
    "Y = [ abs(d2f(x)) for x in X ]\n",
    "M = max(Y)"
   ]
  },
  {
   "cell_type": "code",
   "execution_count": 21,
   "id": "f132a2fc",
   "metadata": {},
   "outputs": [
    {
     "name": "stdout",
     "output_type": "stream",
     "text": [
      "1 2.87500000000000 13.9218750000000\n",
      "2 2.21882690730107 4.73619440340292\n",
      "3 1.92841442459661 0.927733511216212\n",
      "4 1.86641429710045 0.0422841739049400\n",
      "5 1.86371154471046 8.03535752978051e-5\n",
      "6 1.86370652783645 2.76859272541647e-10\n"
     ]
    }
   ],
   "source": [
    "x0 = 4.\n",
    "n = 0 \n",
    "while true :\n",
    "    x = x0 - f(x0) / df(x0)\n",
    "    ss = M / 2 / m * ( x - x0 ) ** 2\n",
    "    x0 = x \n",
    "    n = n + 1\n",
    "    print ( n , x , ss)\n",
    "    if ss < 10**-6 :\n",
    "        break \n",
    "    \n"
   ]
  },
  {
   "cell_type": "code",
   "execution_count": 22,
   "id": "79faf797",
   "metadata": {},
   "outputs": [
    {
     "name": "stdout",
     "output_type": "stream",
     "text": [
      "2.87500000000000\n",
      "2.56254882812500\n",
      "2.38103079279139\n"
     ]
    }
   ],
   "source": [
    "x = 4.\n",
    "for _ in range(3) :\n",
    "    x = x - f(x) / df(4)\n",
    "    print(x)"
   ]
  }
 ],
 "metadata": {
  "kernelspec": {
   "display_name": "Python 3",
   "language": "python",
   "name": "python3"
  },
  "language_info": {
   "codemirror_mode": {
    "name": "ipython",
    "version": 3
   },
   "file_extension": ".py",
   "mimetype": "text/x-python",
   "name": "python",
   "nbconvert_exporter": "python",
   "pygments_lexer": "ipython3",
   "version": "3.13.3"
  }
 },
 "nbformat": 4,
 "nbformat_minor": 5
}
