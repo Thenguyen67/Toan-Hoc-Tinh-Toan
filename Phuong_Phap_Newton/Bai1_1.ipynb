{
 "cells": [
  {
   "cell_type": "code",
   "execution_count": 8,
   "id": "8952b2be",
   "metadata": {},
   "outputs": [],
   "source": [
    "f = lambda x : x**3 + 2*x - 4"
   ]
  },
  {
   "cell_type": "code",
   "execution_count": 9,
   "id": "0a00a6aa",
   "metadata": {},
   "outputs": [],
   "source": [
    "from sympy import *\n",
    "x = symbols('x')"
   ]
  },
  {
   "cell_type": "code",
   "execution_count": 14,
   "id": "9547ce5a",
   "metadata": {},
   "outputs": [
    {
     "data": {
      "image/png": "[encoded data removed]",
      "text/plain": [
       "<Figure size 640x480 with 1 Axes>"
      ]
     },
     "metadata": {},
     "output_type": "display_data"
    },
    {
     "data": {
      "text/plain": [
       "<sympy.plotting.backends.matplotlibbackend.matplotlib.MatplotlibBackend at 0x1bb58aaf9d0>"
      ]
     },
     "execution_count": 14,
     "metadata": {},
     "output_type": "execute_result"
    }
   ],
   "source": [
    "plot(f(x) , ( x , 1 , 3))"
   ]
  },
  {
   "cell_type": "code",
   "execution_count": 11,
   "id": "0000ba3b",
   "metadata": {},
   "outputs": [],
   "source": [
    "t = symbols('t')"
   ]
  },
  {
   "cell_type": "code",
   "execution_count": 12,
   "id": "32a5614b",
   "metadata": {},
   "outputs": [],
   "source": [
    "df = lambda x : f(t).diff().subs(t , x)"
   ]
  },
  {
   "cell_type": "code",
   "execution_count": 16,
   "id": "7e7ea99e",
   "metadata": {},
   "outputs": [
    {
     "name": "stdout",
     "output_type": "stream",
     "text": [
      "1.20000000000000\n",
      "1.17974683544304\n",
      "1.17950905701288\n"
     ]
    }
   ],
   "source": [
    "x = 1.\n",
    "for _ in range (3) :\n",
    "    x = x - f(x) / df(x)\n",
    "    print(x)"
   ]
  },
  {
   "cell_type": "code",
   "execution_count": 17,
   "id": "3f6ced43",
   "metadata": {},
   "outputs": [
    {
     "data": {
      "text/latex": [
       "$\\displaystyle 6 x$"
      ],
      "text/plain": [
       "6*x"
      ]
     },
     "execution_count": 17,
     "metadata": {},
     "output_type": "execute_result"
    }
   ],
   "source": [
    "x = symbols('x')\n",
    "f(x).diff(x , 2)"
   ]
  },
  {
   "cell_type": "code",
   "execution_count": 19,
   "id": "d8ccec4d",
   "metadata": {},
   "outputs": [
    {
     "name": "stdout",
     "output_type": "stream",
     "text": [
      "1.20000000000000 0.0720000000000000\n",
      "1.17974683544304 0.000738343214228497\n",
      "1.17950905701288 1.01769447326496e-7\n"
     ]
    }
   ],
   "source": [
    "M = 18 # 6x voi x = 3 thi la 18 he he he \n",
    "m = min(abs(df(1)) , abs(df(3)))\n",
    "x0 = 1.\n",
    "for _ in range (3) :\n",
    "    x = x0 - f(x0) / df(x0)\n",
    "    ss = M / 2 / m * ( x - x0 )**2\n",
    "    x0 = x\n",
    "    print(x , ss)"
   ]
  },
  {
   "cell_type": "code",
   "execution_count": 21,
   "id": "76dd493e",
   "metadata": {},
   "outputs": [
    {
     "name": "stdout",
     "output_type": "stream",
     "text": [
      "1 2.00000000000000 1.80000000000000\n",
      "2 1.42857142857143 0.587755102040816\n",
      "3 1.21033740129218 0.0857269631925394\n",
      "4 1.18004408453297 0.00165183307249252\n",
      "5 1.17950918864115 5.15004507144997e-7\n"
     ]
    }
   ],
   "source": [
    "x0 = 3.\n",
    "n = 0 \n",
    "while true :\n",
    "    x = x0 - f(x0) / df(x0)\n",
    "    ss = M / 2 / m * ( x - x0 )**2\n",
    "    x0 = x \n",
    "    n += 1\n",
    "    print(n , x , ss)\n",
    "    if( ss < 10**-6):\n",
    "        break"
   ]
  },
  {
   "cell_type": "code",
   "execution_count": 22,
   "id": "3033f1a8",
   "metadata": {},
   "outputs": [
    {
     "name": "stdout",
     "output_type": "stream",
     "text": [
      "2.42000000000000\n",
      "2.11975024000000\n",
      "1.92446501374621\n"
     ]
    }
   ],
   "source": [
    "x = 3.\n",
    "for _ in range (3) :\n",
    "    x = x - f(x) / df(4)\n",
    "    print(x)"
   ]
  }
 ],
 "metadata": {
  "kernelspec": {
   "display_name": "Python 3",
   "language": "python",
   "name": "python3"
  },
  "language_info": {
   "codemirror_mode": {
    "name": "ipython",
    "version": 3
   },
   "file_extension": ".py",
   "mimetype": "text/x-python",
   "name": "python",
   "nbconvert_exporter": "python",
   "pygments_lexer": "ipython3",
   "version": "3.13.3"
  }
 },
 "nbformat": 4,
 "nbformat_minor": 5
}
