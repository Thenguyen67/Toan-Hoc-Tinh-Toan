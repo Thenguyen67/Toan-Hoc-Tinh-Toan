{
 "cells": [
  {
   "cell_type": "code",
   "execution_count": 4,
   "id": "fb25a9fa",
   "metadata": {},
   "outputs": [
    {
     "data": {
      "text/latex": [
       "$\\displaystyle -2.28171817154095$"
      ],
      "text/plain": [
       "-2.28171817154095"
      ]
     },
     "execution_count": 4,
     "metadata": {},
     "output_type": "execute_result"
    }
   ],
   "source": [
    "from sympy import *\n",
    "import numpy as np\n",
    "f = lambda x : x*(E**x + x) - 6\n",
    "f(1.)"
   ]
  },
  {
   "cell_type": "code",
   "execution_count": 5,
   "id": "53760f75",
   "metadata": {},
   "outputs": [
    {
     "data": {
      "image/png": "[encoded data removed]",
      "text/plain": [
       "<Figure size 640x480 with 1 Axes>"
      ]
     },
     "metadata": {},
     "output_type": "display_data"
    },
    {
     "data": {
      "text/plain": [
       "<sympy.plotting.backends.matplotlibbackend.matplotlib.MatplotlibBackend at 0x193176d7750>"
      ]
     },
     "execution_count": 5,
     "metadata": {},
     "output_type": "execute_result"
    }
   ],
   "source": [
    "x = symbols('x')\n",
    "plot(abs(f(x).diff(x , 2)) , (x , 1 , 2))"
   ]
  },
  {
   "cell_type": "code",
   "execution_count": 6,
   "id": "adabdd6c",
   "metadata": {},
   "outputs": [
    {
     "data": {
      "text/latex": [
       "$\\displaystyle 12.7781121978613$"
      ],
      "text/plain": [
       "12.7781121978613"
      ]
     },
     "execution_count": 6,
     "metadata": {},
     "output_type": "execute_result"
    }
   ],
   "source": [
    "f(2.)"
   ]
  },
  {
   "cell_type": "code",
   "execution_count": 7,
   "id": "6965f246",
   "metadata": {},
   "outputs": [
    {
     "data": {
      "text/latex": [
       "$\\displaystyle x e^{x} + 2 e^{x} + 2$"
      ],
      "text/plain": [
       "x*exp(x) + 2*exp(x) + 2"
      ]
     },
     "execution_count": 7,
     "metadata": {},
     "output_type": "execute_result"
    }
   ],
   "source": [
    "x = symbols('x')\n",
    "f(x).diff(x , 2)"
   ]
  },
  {
   "cell_type": "code",
   "execution_count": 13,
   "id": "3fa1a601",
   "metadata": {},
   "outputs": [
    {
     "data": {
      "text/latex": [
       "$\\displaystyle 31.5562243957226$"
      ],
      "text/plain": [
       "31.5562243957226"
      ]
     },
     "execution_count": 13,
     "metadata": {},
     "output_type": "execute_result"
    }
   ],
   "source": [
    "2.*E**2. + 2.*E**2. + 2."
   ]
  },
  {
   "cell_type": "code",
   "execution_count": 9,
   "id": "f8e3c7d5",
   "metadata": {},
   "outputs": [
    {
     "data": {
      "text/latex": [
       "$\\displaystyle 2 + 2 e$"
      ],
      "text/plain": [
       "2 + 2*E"
      ]
     },
     "execution_count": 9,
     "metadata": {},
     "output_type": "execute_result"
    }
   ],
   "source": [
    "M = 2 + 4*E**2\n",
    "t = symbols('x')\n",
    "df = lambda x : f(t).diff().subs(t , x)\n",
    "m = min(abs(df(1)) , abs(df(2)))\n",
    "m"
   ]
  },
  {
   "cell_type": "code",
   "execution_count": 10,
   "id": "4d7eb862",
   "metadata": {},
   "outputs": [
    {
     "name": "stdout",
     "output_type": "stream",
     "text": [
      "1.25720 0.000110071\n"
     ]
    }
   ],
   "source": [
    "x0 = 1.25\n",
    "for _ in range (1) :\n",
    "    x = x0 - f(x0) / df(x0)\n",
    "    ss = M / 2 / m * (x - x0)**2\n",
    "    x0 = x\n",
    "    print(N(x , 6) , N(ss , 6))"
   ]
  }
 ],
 "metadata": {
  "kernelspec": {
   "display_name": "Python 3",
   "language": "python",
   "name": "python3"
  },
  "language_info": {
   "codemirror_mode": {
    "name": "ipython",
    "version": 3
   },
   "file_extension": ".py",
   "mimetype": "text/x-python",
   "name": "python",
   "nbconvert_exporter": "python",
   "pygments_lexer": "ipython3",
   "version": "3.13.3"
  }
 },
 "nbformat": 4,
 "nbformat_minor": 5
}
