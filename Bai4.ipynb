{
 "cells": [
  {
   "cell_type": "code",
   "execution_count": 30,
   "id": "fb25a9fa",
   "metadata": {},
   "outputs": [
    {
     "data": {
      "text/latex": [
       "$\\displaystyle -2.28171817154095$"
      ],
      "text/plain": [
       "-2.28171817154095"
      ]
     },
     "execution_count": 30,
     "metadata": {},
     "output_type": "execute_result"
    }
   ],
   "source": [
    "from sympy import *\n",
    "import numpy as np\n",
    "f = lambda x : x*(E**x + x) - 6\n",
    "f(1.)"
   ]
  },
  {
   "cell_type": "code",
   "execution_count": 31,
   "id": "adabdd6c",
   "metadata": {},
   "outputs": [
    {
     "data": {
      "text/latex": [
       "$\\displaystyle 12.7781121978613$"
      ],
      "text/plain": [
       "12.7781121978613"
      ]
     },
     "execution_count": 31,
     "metadata": {},
     "output_type": "execute_result"
    }
   ],
   "source": [
    "f(2.)"
   ]
  },
  {
   "cell_type": "code",
   "execution_count": 32,
   "id": "6965f246",
   "metadata": {},
   "outputs": [
    {
     "data": {
      "text/latex": [
       "$\\displaystyle x e^{x} + 2 e^{x} + 2$"
      ],
      "text/plain": [
       "x*exp(x) + 2*exp(x) + 2"
      ]
     },
     "execution_count": 32,
     "metadata": {},
     "output_type": "execute_result"
    }
   ],
   "source": [
    "x = symbols('x')\n",
    "f(x).diff(x , 2)"
   ]
  },
  {
   "cell_type": "code",
   "execution_count": 33,
   "id": "3fa1a601",
   "metadata": {},
   "outputs": [
    {
     "data": {
      "text/latex": [
       "$\\displaystyle 2 + 4 e^{2}$"
      ],
      "text/plain": [
       "2 + 4*exp(2)"
      ]
     },
     "execution_count": 33,
     "metadata": {},
     "output_type": "execute_result"
    }
   ],
   "source": [
    "2*E**2 + 2*E**2 + 2"
   ]
  },
  {
   "cell_type": "code",
   "execution_count": 34,
   "id": "f8e3c7d5",
   "metadata": {},
   "outputs": [
    {
     "data": {
      "text/latex": [
       "$\\displaystyle 2 + 2 e$"
      ],
      "text/plain": [
       "2 + 2*E"
      ]
     },
     "execution_count": 34,
     "metadata": {},
     "output_type": "execute_result"
    }
   ],
   "source": [
    "M = 2 + 4*E**2\n",
    "m = min(abs(df(1)) , abs(df(2)))\n",
    "t = symbols('x')\n",
    "df = lambda x : f(t).diff().subs(t , x)\n",
    "m"
   ]
  },
  {
   "cell_type": "code",
   "execution_count": 35,
   "id": "4d7eb862",
   "metadata": {},
   "outputs": [
    {
     "name": "stdout",
     "output_type": "stream",
     "text": [
      "1.51167386348687 0.238462415601841*(1 + 2*exp(2))/(2 + 2*E)\n"
     ]
    }
   ],
   "source": [
    "x0 = 2.\n",
    "for _ in range (1) :\n",
    "    x = x0 - f(x0) / df(x0)\n",
    "    ss = M / 2 / m * (x - x0)**2\n",
    "    x0 = x\n",
    "    print(x , ss)"
   ]
  },
  {
   "cell_type": "code",
   "execution_count": 36,
   "id": "1addfc32",
   "metadata": {},
   "outputs": [
    {
     "data": {
      "text/latex": [
       "$\\displaystyle 0.505944$"
      ],
      "text/plain": [
       "0.505944"
      ]
     },
     "execution_count": 36,
     "metadata": {},
     "output_type": "execute_result"
    }
   ],
   "source": [
    "N(0.238462415601841*(1 + 2*exp(2))/(2 + 2*E) , 6)"
   ]
  }
 ],
 "metadata": {
  "kernelspec": {
   "display_name": "Python 3",
   "language": "python",
   "name": "python3"
  },
  "language_info": {
   "codemirror_mode": {
    "name": "ipython",
    "version": 3
   },
   "file_extension": ".py",
   "mimetype": "text/x-python",
   "name": "python",
   "nbconvert_exporter": "python",
   "pygments_lexer": "ipython3",
   "version": "3.13.3"
  }
 },
 "nbformat": 4,
 "nbformat_minor": 5
}
