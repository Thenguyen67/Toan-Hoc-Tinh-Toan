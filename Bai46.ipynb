{
 "cells": [
  {
   "cell_type": "code",
   "execution_count": 28,
   "id": "7c1612f9",
   "metadata": {},
   "outputs": [],
   "source": [
    "from sympy import *\n",
    "import numpy as np"
   ]
  },
  {
   "cell_type": "code",
   "execution_count": 29,
   "id": "37de8948",
   "metadata": {},
   "outputs": [],
   "source": [
    "f = lambda x , y : np.array([3*y[0] + 2*y[1] - (2*x**2 + 1)*E**(2*x) , 4*y[0] + y[1] + (x**2 + 2*x - 4)*E**(2*x)])"
   ]
  },
  {
   "cell_type": "code",
   "execution_count": 30,
   "id": "55c33a41",
   "metadata": {},
   "outputs": [],
   "source": [
    "y = [1 , 1]"
   ]
  },
  {
   "cell_type": "code",
   "execution_count": 31,
   "id": "e16cfcc6",
   "metadata": {},
   "outputs": [],
   "source": [
    "X = [0 , 0.2 , 0.4 , 0.8 , 1]"
   ]
  },
  {
   "cell_type": "code",
   "execution_count": 32,
   "id": "31089e3d",
   "metadata": {},
   "outputs": [
    {
     "name": "stdout",
     "output_type": "stream",
     "text": [
      "[1.80000000000000 1.20000000000000]\n",
      "[3.03776586530949 1.81782081527942]\n",
      "[6.96225594566038 4.69911675683952]\n",
      "[10.7606734302682 9.46527745134864]\n"
     ]
    }
   ],
   "source": [
    "for n in range(4):\n",
    "    h = X[n+1] - X[n]\n",
    "    y = y + h * f(X[n] , y)\n",
    "    print(y)"
   ]
  }
 ],
 "metadata": {
  "kernelspec": {
   "display_name": "Python 3",
   "language": "python",
   "name": "python3"
  },
  "language_info": {
   "codemirror_mode": {
    "name": "ipython",
    "version": 3
   },
   "file_extension": ".py",
   "mimetype": "text/x-python",
   "name": "python",
   "nbconvert_exporter": "python",
   "pygments_lexer": "ipython3",
   "version": "3.13.3"
  }
 },
 "nbformat": 4,
 "nbformat_minor": 5
}
