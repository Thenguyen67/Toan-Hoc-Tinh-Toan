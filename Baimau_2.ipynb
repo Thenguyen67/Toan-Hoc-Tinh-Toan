{
 "cells": [
  {
   "cell_type": "code",
   "execution_count": 62,
   "id": "6c56d636",
   "metadata": {},
   "outputs": [],
   "source": [
    "g = lambda x : (x ** 2 + 3) ** Rational(1 , 3)\n",
    "from sympy import *"
   ]
  },
  {
   "cell_type": "code",
   "execution_count": 63,
   "id": "00a6b144",
   "metadata": {},
   "outputs": [
    {
     "data": {
      "text/latex": [
       "$\\displaystyle \\sqrt[3]{x^{2} + 3}$"
      ],
      "text/plain": [
       "(x**2 + 3)**(1/3)"
      ]
     },
     "execution_count": 63,
     "metadata": {},
     "output_type": "execute_result"
    }
   ],
   "source": [
    "g(x)"
   ]
  },
  {
   "cell_type": "code",
   "execution_count": 64,
   "id": "62712c1d",
   "metadata": {},
   "outputs": [
    {
     "data": {
      "text/latex": [
       "$\\displaystyle 1.5874010519682$"
      ],
      "text/plain": [
       "1.58740105196820"
      ]
     },
     "execution_count": 64,
     "metadata": {},
     "output_type": "execute_result"
    }
   ],
   "source": [
    "g(1.)\n"
   ]
  },
  {
   "cell_type": "code",
   "execution_count": 65,
   "id": "735d5967",
   "metadata": {},
   "outputs": [
    {
     "data": {
      "text/latex": [
       "$\\displaystyle 2.66840164872194$"
      ],
      "text/plain": [
       "2.66840164872194"
      ]
     },
     "execution_count": 65,
     "metadata": {},
     "output_type": "execute_result"
    }
   ],
   "source": [
    "g(4.)"
   ]
  },
  {
   "cell_type": "code",
   "execution_count": 66,
   "id": "b19c24c4",
   "metadata": {},
   "outputs": [
    {
     "data": {
      "text/latex": [
       "$\\displaystyle \\frac{2 x}{3 \\left(x^{2} + 3\\right)^{\\frac{2}{3}}}$"
      ],
      "text/plain": [
       "2*x/(3*(x**2 + 3)**(2/3))"
      ]
     },
     "execution_count": 66,
     "metadata": {},
     "output_type": "execute_result"
    }
   ],
   "source": [
    "x = symbols('x')\n",
    "g(x).diff()"
   ]
  },
  {
   "cell_type": "code",
   "execution_count": 67,
   "id": "df49d6b3",
   "metadata": {},
   "outputs": [
    {
     "data": {
      "image/png": "[encoded data removed]",
      "text/plain": [
       "<Figure size 640x480 with 1 Axes>"
      ]
     },
     "metadata": {},
     "output_type": "display_data"
    },
    {
     "data": {
      "text/plain": [
       "<sympy.plotting.backends.matplotlibbackend.matplotlib.MatplotlibBackend at 0x1b5f22d5e50>"
      ]
     },
     "execution_count": 67,
     "metadata": {},
     "output_type": "execute_result"
    }
   ],
   "source": [
    "x = symbols ('x')\n",
    "plot(abs(g(x).diff()) , (x , 1 , 4))"
   ]
  },
  {
   "cell_type": "code",
   "execution_count": 68,
   "id": "d3935ad3",
   "metadata": {},
   "outputs": [],
   "source": [
    "q = 0.38"
   ]
  },
  {
   "cell_type": "code",
   "execution_count": 69,
   "id": "c120dd57",
   "metadata": {},
   "outputs": [
    {
     "name": "stdout",
     "output_type": "stream",
     "text": [
      "2.09916822690420 0.245671086736133\n",
      "1.94926619287072 0.0918754402140678\n",
      "1.89450291918405 0.0335645870982867\n"
     ]
    }
   ],
   "source": [
    "x0 = 2.5\n",
    "for _ in range (3) :\n",
    "    x = g(x0)\n",
    "    ss = q / (1 - q ) * abs (x - x0)\n",
    "    x0 = x\n",
    "    print(x , ss)"
   ]
  },
  {
   "cell_type": "code",
   "execution_count": 70,
   "id": "aa93925d",
   "metadata": {},
   "outputs": [
    {
     "name": "stdout",
     "output_type": "stream",
     "text": [
      "1 2.09916822690420 0.245671086736133\n",
      "2 1.94926619287072 0.0918754402140678\n",
      "3 1.89450291918405 0.0335645870982867\n"
     ]
    }
   ],
   "source": [
    "q = 0.38\n",
    "x0 = 2.5\n",
    "n = 0 \n",
    "for _ in range (3) :\n",
    "    x = g(x0)\n",
    "    ss = q / (1 - q) * abs(x - x0)\n",
    "    x0 = x\n",
    "    n += 1\n",
    "    print(n , x , ss)\n",
    "    if ss < 10 ** -4 :\n",
    "        break"
   ]
  },
  {
   "cell_type": "code",
   "execution_count": 71,
   "id": "39cc3f51",
   "metadata": {},
   "outputs": [
    {
     "data": {
      "text/latex": [
       "$\\displaystyle 23.3464718924692$"
      ],
      "text/plain": [
       "23.3464718924692"
      ]
     },
     "execution_count": 71,
     "metadata": {},
     "output_type": "execute_result"
    }
   ],
   "source": [
    "x0 = 2.5\n",
    "x1 = g(x0)\n",
    "log(10 ** -10 * (1 - q) / abs(x1 - x0) , q)"
   ]
  }
 ],
 "metadata": {
  "kernelspec": {
   "display_name": "Python 3",
   "language": "python",
   "name": "python3"
  },
  "language_info": {
   "codemirror_mode": {
    "name": "ipython",
    "version": 3
   },
   "file_extension": ".py",
   "mimetype": "text/x-python",
   "name": "python",
   "nbconvert_exporter": "python",
   "pygments_lexer": "ipython3",
   "version": "3.13.3"
  }
 },
 "nbformat": 4,
 "nbformat_minor": 5
}
