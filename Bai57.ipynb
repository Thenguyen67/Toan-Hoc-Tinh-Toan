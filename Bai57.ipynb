{
 "cells": [
  {
   "cell_type": "code",
   "execution_count": 4,
   "id": "b5d2b54a",
   "metadata": {},
   "outputs": [],
   "source": [
    "from sympy import *\n",
    "import numpy as np"
   ]
  },
  {
   "cell_type": "code",
   "execution_count": 5,
   "id": "8500b271",
   "metadata": {},
   "outputs": [],
   "source": [
    "f = lambda x , y : np.array([y[0] + 2*y[1] - 2*y[2] + E**(-x) , y[1] + y[2] - 2*E**(-x) , y[0] + 2*y[1] + E**(-x)])"
   ]
  },
  {
   "cell_type": "code",
   "execution_count": 6,
   "id": "ea83042b",
   "metadata": {},
   "outputs": [],
   "source": [
    "y = [3 , -1 , 1]\n",
    "X = [0 , 0.1 , 0.2 , 0.3 , 0.4 , 0.5 , 0.6 , 0.7 , 0.8 , 0.9 , 1]"
   ]
  },
  {
   "cell_type": "code",
   "execution_count": 7,
   "id": "0f12b3c5",
   "metadata": {},
   "outputs": [
    {
     "name": "stdout",
     "output_type": "stream",
     "text": [
      "[2.95601282574026 -1.19086301175780 1.17431207385801]\n",
      "[2.82820001185963 -1.36717099782930 1.29430534821134]\n",
      "[2.62300501509485 -1.53516736641082 1.35508120413242]\n",
      "[2.34715282057472 -1.70213313870690 1.35096843025385]\n",
      "[2.00762953453789 -1.87660335911595 1.27532971660781]\n",
      "[1.61165491570122 -2.06862759016745 1.12031747660661]\n",
      "[1.16664854342985 -2.29008512860921 0.876568550811491]\n",
      "[0.680190344119430 -2.55506789637795 0.532825059119015]\n",
      "[0.159976217088466 -2.88034678858437 0.0754658709098358]\n",
      "[-0.386230482768018 -3.28594071304060 -0.512070258000589]\n"
     ]
    }
   ],
   "source": [
    "for n in range(10) :\n",
    "    h = X[n+1] - X[n]\n",
    "    k1 = h * f(X[n] , y)\n",
    "    k2 = h * f(X[n] + h/2 , y + k1/2)\n",
    "    k3 = h * f(X[n] + h/2 , y + k2/2)\n",
    "    k4 = h * f(X[n] + h , y + k3)\n",
    "    y = y + (k1 + 2*k2 + 2*k3 + k4)/6\n",
    "    print(y)"
   ]
  }
 ],
 "metadata": {
  "kernelspec": {
   "display_name": "Python 3",
   "language": "python",
   "name": "python3"
  },
  "language_info": {
   "codemirror_mode": {
    "name": "ipython",
    "version": 3
   },
   "file_extension": ".py",
   "mimetype": "text/x-python",
   "name": "python",
   "nbconvert_exporter": "python",
   "pygments_lexer": "ipython3",
   "version": "3.13.3"
  }
 },
 "nbformat": 4,
 "nbformat_minor": 5
}
