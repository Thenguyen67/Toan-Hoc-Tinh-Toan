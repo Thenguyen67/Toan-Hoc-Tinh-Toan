{
 "cells": [
  {
   "cell_type": "code",
   "execution_count": 1,
   "id": "6a08580d",
   "metadata": {},
   "outputs": [],
   "source": [
    "from sympy import *\n",
    "f = lambda t , y : 1 + y / t \n",
    "T = [1 , 1.2 , 1.4 , 1.6 , 1.8 , 2]"
   ]
  },
  {
   "cell_type": "code",
   "execution_count": 3,
   "id": "eb8f8b53",
   "metadata": {},
   "outputs": [
    {
     "name": "stdout",
     "output_type": "stream",
     "text": [
      "2.5999999999999996\n",
      "3.233333333333333\n",
      "3.8952380952380956\n",
      "4.582142857142857\n",
      "5.291269841269841\n"
     ]
    }
   ],
   "source": [
    "y = 2\n",
    "for n in range(5):\n",
    "    h = T[n+1] - T[n]\n",
    "    y = y + h * f(T[n] , y)\n",
    "    print(y)"
   ]
  }
 ],
 "metadata": {
  "kernelspec": {
   "display_name": "Python 3",
   "language": "python",
   "name": "python3"
  },
  "language_info": {
   "codemirror_mode": {
    "name": "ipython",
    "version": 3
   },
   "file_extension": ".py",
   "mimetype": "text/x-python",
   "name": "python",
   "nbconvert_exporter": "python",
   "pygments_lexer": "ipython3",
   "version": "3.13.3"
  }
 },
 "nbformat": 4,
 "nbformat_minor": 5
}
