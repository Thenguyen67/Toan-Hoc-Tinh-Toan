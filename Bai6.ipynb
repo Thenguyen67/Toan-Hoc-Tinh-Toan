{
 "cells": [
  {
   "cell_type": "code",
   "execution_count": 44,
   "id": "c352e2a4",
   "metadata": {},
   "outputs": [],
   "source": [
    "from sympy import *\n",
    "import numpy as np"
   ]
  },
  {
   "cell_type": "code",
   "execution_count": 45,
   "id": "5dcaf239",
   "metadata": {},
   "outputs": [],
   "source": [
    "f = lambda x : x**2 - E**x - 2"
   ]
  },
  {
   "cell_type": "code",
   "execution_count": 46,
   "id": "1a0cb9cc",
   "metadata": {},
   "outputs": [
    {
     "data": {
      "text/latex": [
       "$\\displaystyle 22.9932620530009$"
      ],
      "text/plain": [
       "22.9932620530009"
      ]
     },
     "execution_count": 46,
     "metadata": {},
     "output_type": "execute_result"
    }
   ],
   "source": [
    "f(-5.)"
   ]
  },
  {
   "cell_type": "code",
   "execution_count": 47,
   "id": "30fdd344",
   "metadata": {},
   "outputs": [
    {
     "data": {
      "text/latex": [
       "$\\displaystyle -3.0$"
      ],
      "text/plain": [
       "-3.00000000000000"
      ]
     },
     "execution_count": 47,
     "metadata": {},
     "output_type": "execute_result"
    }
   ],
   "source": [
    "f(0.)"
   ]
  },
  {
   "cell_type": "code",
   "execution_count": 48,
   "id": "a9b2b61d",
   "metadata": {},
   "outputs": [
    {
     "data": {
      "text/latex": [
       "$\\displaystyle 1.99326205300091$"
      ],
      "text/plain": [
       "1.99326205300091"
      ]
     },
     "execution_count": 48,
     "metadata": {},
     "output_type": "execute_result"
    }
   ],
   "source": [
    "x = symbols('x')\n",
    "f(x).diff(x , 2).subs(x , -5.)"
   ]
  },
  {
   "cell_type": "code",
   "execution_count": 49,
   "id": "b97f0ee8",
   "metadata": {},
   "outputs": [
    {
     "data": {
      "text/latex": [
       "$\\displaystyle 1$"
      ],
      "text/plain": [
       "1"
      ]
     },
     "execution_count": 49,
     "metadata": {},
     "output_type": "execute_result"
    }
   ],
   "source": [
    "f(x).diff(x , 2).subs(x , 0.)"
   ]
  },
  {
   "cell_type": "code",
   "execution_count": 52,
   "id": "22d8c301",
   "metadata": {},
   "outputs": [],
   "source": [
    "M = 2.\n",
    "t = symbols('t')\n",
    "df = lambda x : f(t).diff().subs(t , x)"
   ]
  },
  {
   "cell_type": "code",
   "execution_count": 53,
   "id": "a491d412",
   "metadata": {},
   "outputs": [
    {
     "data": {
      "text/latex": [
       "$\\displaystyle 1$"
      ],
      "text/plain": [
       "1"
      ]
     },
     "execution_count": 53,
     "metadata": {},
     "output_type": "execute_result"
    }
   ],
   "source": [
    "m = min(abs(df(-5)) , abs(df(0)))\n",
    "m"
   ]
  },
  {
   "cell_type": "code",
   "execution_count": 54,
   "id": "00bbc2c3",
   "metadata": {},
   "outputs": [
    {
     "name": "stdout",
     "output_type": "stream",
     "text": [
      "-2.70222 5.27978\n",
      "-1.74546 0.915402\n",
      "-1.50755 0.0566007\n",
      "-1.49171 0.000250684\n",
      "-1.49164 4.82135e-9\n"
     ]
    }
   ],
   "source": [
    "x0 = -5.\n",
    "for _ in range (5) :\n",
    "    x = x0 - f(x0) / df(x0)\n",
    "    ss = M / 2 / m * (x - x0)**2\n",
    "    x0 = x\n",
    "    print(N(x , 6) , N(ss , 6))"
   ]
  }
 ],
 "metadata": {
  "kernelspec": {
   "display_name": "Python 3",
   "language": "python",
   "name": "python3"
  },
  "language_info": {
   "codemirror_mode": {
    "name": "ipython",
    "version": 3
   },
   "file_extension": ".py",
   "mimetype": "text/x-python",
   "name": "python",
   "nbconvert_exporter": "python",
   "pygments_lexer": "ipython3",
   "version": "3.13.3"
  }
 },
 "nbformat": 4,
 "nbformat_minor": 5
}
