{
 "cells": [
  {
   "cell_type": "code",
   "execution_count": 30,
   "id": "9b92e190",
   "metadata": {},
   "outputs": [],
   "source": [
    "from sympy import *\n",
    "import numpy as np"
   ]
  },
  {
   "cell_type": "code",
   "execution_count": 31,
   "id": "17e91c25",
   "metadata": {},
   "outputs": [],
   "source": [
    "f = lambda x , y : np.array([-4*y[0] - 2*y[1] + cos(x) + 4*sin(x) , 3*y[0] + y[1] - 3*sin(x)])"
   ]
  },
  {
   "cell_type": "code",
   "execution_count": 32,
   "id": "c8d4e95c",
   "metadata": {},
   "outputs": [],
   "source": [
    "y = [0 , -1]\n",
    "X = [0 , 0.5 , 1 , 1.5 , 2]"
   ]
  },
  {
   "cell_type": "code",
   "execution_count": 33,
   "id": "a75b6fd2",
   "metadata": {},
   "outputs": [
    {
     "name": "stdout",
     "output_type": "stream",
     "text": [
      "[1.50000000000000 -1.50000000000000]\n",
      "[1.39764235815359 -0.719138307906305]\n",
      "[-0.678504050247288 + 0.5*cos(1) + 2.0*sin(1)\n",
      " 1.01775607537093 - 1.5*sin(1)]\n",
      "[-0.5*sin(1) - 0.5*cos(1) + 1.69110654891832\n",
      " -0.987364442220616 + 0.75*cos(1) + 0.75*sin(1)]\n"
     ]
    }
   ],
   "source": [
    "for n in range(4):\n",
    "    h = X[n+1] - X[n]\n",
    "    y = y + h * f(X[n] , y)\n",
    "    print(y)"
   ]
  },
  {
   "cell_type": "code",
   "execution_count": 34,
   "id": "b37d435f",
   "metadata": {},
   "outputs": [
    {
     "data": {
      "text/latex": [
       "$\\displaystyle 1.27459$"
      ],
      "text/plain": [
       "1.27459"
      ]
     },
     "execution_count": 34,
     "metadata": {},
     "output_type": "execute_result"
    }
   ],
   "source": [
    "N(-0.678504050247288 + 0.5*cos(1) + 2*sin(1) , 6 )\n"
   ]
  },
  {
   "cell_type": "code",
   "execution_count": 36,
   "id": "33a2f5e1",
   "metadata": {},
   "outputs": [
    {
     "data": {
      "text/latex": [
       "$\\displaystyle -0.24445$"
      ],
      "text/plain": [
       "-0.244450"
      ]
     },
     "execution_count": 36,
     "metadata": {},
     "output_type": "execute_result"
    }
   ],
   "source": [
    "N(1.01775607537093 - 1.5*sin(1) , 6)"
   ]
  },
  {
   "cell_type": "code",
   "execution_count": 37,
   "id": "30ac4404",
   "metadata": {},
   "outputs": [
    {
     "data": {
      "text/latex": [
       "$\\displaystyle 1.00022$"
      ],
      "text/plain": [
       "1.00022"
      ]
     },
     "execution_count": 37,
     "metadata": {},
     "output_type": "execute_result"
    }
   ],
   "source": [
    "N(-0.5*sin(1) - 0.5*cos(1) + 1.69110654891832 , 6)"
   ]
  },
  {
   "cell_type": "code",
   "execution_count": 38,
   "id": "cacff53a",
   "metadata": {},
   "outputs": [
    {
     "data": {
      "text/latex": [
       "$\\displaystyle 0.0489655$"
      ],
      "text/plain": [
       "0.0489655"
      ]
     },
     "execution_count": 38,
     "metadata": {},
     "output_type": "execute_result"
    }
   ],
   "source": [
    "N(-0.987364442220616 + 0.75*cos(1) + 0.75*sin(1) , 6)"
   ]
  }
 ],
 "metadata": {
  "kernelspec": {
   "display_name": "Python 3",
   "language": "python",
   "name": "python3"
  },
  "language_info": {
   "codemirror_mode": {
    "name": "ipython",
    "version": 3
   },
   "file_extension": ".py",
   "mimetype": "text/x-python",
   "name": "python",
   "nbconvert_exporter": "python",
   "pygments_lexer": "ipython3",
   "version": "3.13.3"
  }
 },
 "nbformat": 4,
 "nbformat_minor": 5
}
