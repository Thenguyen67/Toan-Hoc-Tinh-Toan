{
 "cells": [
  {
   "cell_type": "code",
   "execution_count": 1,
   "id": "5c0c9362",
   "metadata": {},
   "outputs": [],
   "source": [
    "X = [-1 , 0 , 1 , 2]\n",
    "Y = [4 , 3 , 2 , 7 ]"
   ]
  },
  {
   "cell_type": "code",
   "execution_count": 2,
   "id": "382963ec",
   "metadata": {},
   "outputs": [],
   "source": [
    "def L(i , x) :\n",
    "    prod = 1\n",
    "    for j in range (4) :\n",
    "        if j != i :\n",
    "            prod *= (x - X[j]) / (X[i] - X[j])\n",
    "    return prod "
   ]
  },
  {
   "cell_type": "code",
   "execution_count": 6,
   "id": "873d7fa3",
   "metadata": {},
   "outputs": [
    {
     "data": {
      "text/latex": [
       "$\\displaystyle x^{3} - 2 x + 3$"
      ],
      "text/plain": [
       "x**3 - 2*x + 3"
      ]
     },
     "execution_count": 6,
     "metadata": {},
     "output_type": "execute_result"
    }
   ],
   "source": [
    "from sympy import *\n",
    "x = symbols('x')\n",
    "L(0 , x)\n",
    "L(0 , x).expand()\n",
    "\n",
    "P = 0 \n",
    "for i in range (4) :\n",
    "    P += Y[i] * L(i , x)\n",
    "\n",
    "P.expand()\n"
   ]
  }
 ],
 "metadata": {
  "kernelspec": {
   "display_name": "Python 3",
   "language": "python",
   "name": "python3"
  },
  "language_info": {
   "codemirror_mode": {
    "name": "ipython",
    "version": 3
   },
   "file_extension": ".py",
   "mimetype": "text/x-python",
   "name": "python",
   "nbconvert_exporter": "python",
   "pygments_lexer": "ipython3",
   "version": "3.13.3"
  }
 },
 "nbformat": 4,
 "nbformat_minor": 5
}
