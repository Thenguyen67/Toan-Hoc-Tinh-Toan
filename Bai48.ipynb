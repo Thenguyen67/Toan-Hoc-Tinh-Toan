{
 "cells": [
  {
   "cell_type": "code",
   "execution_count": 1,
   "id": "d5ff2ffc",
   "metadata": {},
   "outputs": [],
   "source": [
    "from sympy import *\n",
    "import numpy as np"
   ]
  },
  {
   "cell_type": "code",
   "execution_count": 2,
   "id": "c219ccd2",
   "metadata": {},
   "outputs": [],
   "source": [
    "f = lambda x , y : np.array([y[1] , -y[0] - 2*E**x + 1 , -y[0] - E**x + 1])"
   ]
  },
  {
   "cell_type": "code",
   "execution_count": 4,
   "id": "ef84c56d",
   "metadata": {},
   "outputs": [],
   "source": [
    "y = [1 , 0 ,1]\n",
    "X = [0 , 0.4 , 0.8 , 1.2 , 1.6 , 2]"
   ]
  },
  {
   "cell_type": "code",
   "execution_count": 5,
   "id": "d68193c3",
   "metadata": {},
   "outputs": [
    {
     "name": "stdout",
     "output_type": "stream",
     "text": [
      "[1.0 -0.800000000000000 0.600000000000000]\n",
      "[0.680000000000000 -1.99345975811302 0.00327012094349177]\n",
      "[-0.117383903245206 -3.64589250090699 -0.758946250453495]\n",
      "[-1.57574090360800 -5.85503247779815 -1.64003945825003]\n",
      "[-3.91775389472726 -8.78716205587104 -2.59095606656488]\n"
     ]
    }
   ],
   "source": [
    "for n in range(5) :\n",
    "    h = X[n+1] - X[n]\n",
    "    y = y + h * f(X[n] , y)\n",
    "    print(y)"
   ]
  }
 ],
 "metadata": {
  "kernelspec": {
   "display_name": "Python 3",
   "language": "python",
   "name": "python3"
  },
  "language_info": {
   "codemirror_mode": {
    "name": "ipython",
    "version": 3
   },
   "file_extension": ".py",
   "mimetype": "text/x-python",
   "name": "python",
   "nbconvert_exporter": "python",
   "pygments_lexer": "ipython3",
   "version": "3.13.3"
  }
 },
 "nbformat": 4,
 "nbformat_minor": 5
}
