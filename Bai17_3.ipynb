{
 "cells": [
  {
   "cell_type": "code",
   "execution_count": 1,
   "id": "7e41fbb4",
   "metadata": {},
   "outputs": [],
   "source": [
    "X = [-2 , 8]\n",
    "Y = [8 , -1]"
   ]
  },
  {
   "cell_type": "code",
   "execution_count": 9,
   "id": "26525c91",
   "metadata": {},
   "outputs": [],
   "source": [
    "def L(i , x) :\n",
    "    prod = 1\n",
    "    for j in range(2) :\n",
    "        if j != i :\n",
    "            prod *= (x - X[j]) / (X[i] - X[j])\n",
    "    return prod "
   ]
  },
  {
   "cell_type": "code",
   "execution_count": null,
   "id": "874c6e1d",
   "metadata": {},
   "outputs": [
    {
     "data": {
      "text/latex": [
       "$\\displaystyle \\frac{4}{5} - \\frac{x}{10}$"
      ],
      "text/plain": [
       "4/5 - x/10"
      ]
     },
     "execution_count": 10,
     "metadata": {},
     "output_type": "execute_result"
    }
   ],
   "source": [
    "from sympy import *\n",
    "x = symbols('x')\n",
    "L(0 , x)\n",
    "L(0 , x ).expand()"
   ]
  },
  {
   "cell_type": "code",
   "execution_count": 11,
   "id": "18aa0f39",
   "metadata": {},
   "outputs": [
    {
     "data": {
      "text/latex": [
       "$\\displaystyle \\frac{31}{5} - \\frac{9 x}{10}$"
      ],
      "text/plain": [
       "31/5 - 9*x/10"
      ]
     },
     "execution_count": 11,
     "metadata": {},
     "output_type": "execute_result"
    }
   ],
   "source": [
    "P = 0\n",
    "for i in range(2) :\n",
    "    P += Y[i] * L(i , x)\n",
    "P.expand()"
   ]
  }
 ],
 "metadata": {
  "kernelspec": {
   "display_name": "Python 3",
   "language": "python",
   "name": "python3"
  },
  "language_info": {
   "codemirror_mode": {
    "name": "ipython",
    "version": 3
   },
   "file_extension": ".py",
   "mimetype": "text/x-python",
   "name": "python",
   "nbconvert_exporter": "python",
   "pygments_lexer": "ipython3",
   "version": "3.13.3"
  }
 },
 "nbformat": 4,
 "nbformat_minor": 5
}
