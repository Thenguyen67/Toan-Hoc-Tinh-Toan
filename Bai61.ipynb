{
 "cells": [
  {
   "cell_type": "code",
   "execution_count": 10,
   "id": "9fc5d1fd",
   "metadata": {},
   "outputs": [],
   "source": [
    "from sympy import *\n",
    "import numpy as np"
   ]
  },
  {
   "cell_type": "code",
   "execution_count": 11,
   "id": "460f1d3e",
   "metadata": {},
   "outputs": [],
   "source": [
    "B = np.array(\n",
    "    [[-0.04 , 0.05] ,\n",
    "    [-0.19 , 0.14]]\n",
    ")\n",
    "g = np.array([3.17 , -0.41])"
   ]
  },
  {
   "cell_type": "code",
   "execution_count": 12,
   "id": "7ee5a840",
   "metadata": {},
   "outputs": [
    {
     "name": "stdout",
     "output_type": "stream",
     "text": [
      "0.33\n"
     ]
    }
   ],
   "source": [
    "q = np.linalg.norm(B , np.inf)\n",
    "print(q)"
   ]
  },
  {
   "cell_type": "code",
   "execution_count": 13,
   "id": "269f7e60",
   "metadata": {},
   "outputs": [
    {
     "name": "stdout",
     "output_type": "stream",
     "text": [
      "[ 3.04 -0.93] -0.5122388059701494\n",
      "[ 3.0019 -1.1178] -0.09249850746268656\n",
      "[ 2.994034 -1.136853] -0.009384313432835816\n",
      "[ 2.99339599 -1.13802588] -0.0005776871641791804\n",
      "[ 2.99336287 -1.13806886] -2.1169894029752377e-05\n"
     ]
    }
   ],
   "source": [
    "x0 = np.array([2 , -1])\n",
    "for _ in range(5) :\n",
    "    x = np.dot(B , x0) + g\n",
    "    ss = q / (q - 1) * np.linalg.norm(x - x0 , np.inf)\n",
    "    x0 = x\n",
    "    print(x , ss)"
   ]
  }
 ],
 "metadata": {
  "kernelspec": {
   "display_name": "Python 3",
   "language": "python",
   "name": "python3"
  },
  "language_info": {
   "codemirror_mode": {
    "name": "ipython",
    "version": 3
   },
   "file_extension": ".py",
   "mimetype": "text/x-python",
   "name": "python",
   "nbconvert_exporter": "python",
   "pygments_lexer": "ipython3",
   "version": "3.13.3"
  }
 },
 "nbformat": 4,
 "nbformat_minor": 5
}
