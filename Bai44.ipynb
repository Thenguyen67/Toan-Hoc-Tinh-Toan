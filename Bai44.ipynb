{
 "cells": [
  {
   "cell_type": "code",
   "execution_count": 8,
   "id": "9fa6f783",
   "metadata": {},
   "outputs": [],
   "source": [
    "from sympy import *\n",
    "f = lambda x , y : 1 + (x - y)**2\n",
    "X = [2 , 2.25 , 2.5 , 2.75 , 3]"
   ]
  },
  {
   "cell_type": "code",
   "execution_count": 15,
   "id": "2ab0edf4",
   "metadata": {},
   "outputs": [
    {
     "name": "stdout",
     "output_type": "stream",
     "text": [
      "1.5\n",
      "1.890625\n",
      "2.23345947265625\n",
      "2.55016300175339\n"
     ]
    }
   ],
   "source": [
    "y = 1\n",
    "for n in range(4):\n",
    "    h = X[n+1] - X[n]\n",
    "    y = y + h * f(X[n] , y)\n",
    "    print(y)"
   ]
  }
 ],
 "metadata": {
  "kernelspec": {
   "display_name": "Python 3",
   "language": "python",
   "name": "python3"
  },
  "language_info": {
   "codemirror_mode": {
    "name": "ipython",
    "version": 3
   },
   "file_extension": ".py",
   "mimetype": "text/x-python",
   "name": "python",
   "nbconvert_exporter": "python",
   "pygments_lexer": "ipython3",
   "version": "3.13.3"
  }
 },
 "nbformat": 4,
 "nbformat_minor": 5
}
