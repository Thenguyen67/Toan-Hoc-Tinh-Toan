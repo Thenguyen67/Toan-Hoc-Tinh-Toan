{
 "cells": [
  {
   "cell_type": "code",
   "execution_count": 1,
   "id": "531aa174",
   "metadata": {},
   "outputs": [],
   "source": [
    "f = lambda x , y : y - x\n",
    "X = [0 , 0.1 , 0.3 , 0.5]"
   ]
  },
  {
   "cell_type": "code",
   "execution_count": 2,
   "id": "05618bf2",
   "metadata": {},
   "outputs": [
    {
     "name": "stdout",
     "output_type": "stream",
     "text": [
      "2.2\n",
      "2.62\n",
      "3.084\n"
     ]
    }
   ],
   "source": [
    "y = 2\n",
    "for n in range (3) :\n",
    "    h = X[n + 1] - X[n]\n",
    "    y = y + h * f(X[n] , y)\n",
    "    print(y)"
   ]
  }
 ],
 "metadata": {
  "kernelspec": {
   "display_name": "Python 3",
   "language": "python",
   "name": "python3"
  },
  "language_info": {
   "codemirror_mode": {
    "name": "ipython",
    "version": 3
   },
   "file_extension": ".py",
   "mimetype": "text/x-python",
   "name": "python",
   "nbconvert_exporter": "python",
   "pygments_lexer": "ipython3",
   "version": "3.13.3"
  }
 },
 "nbformat": 4,
 "nbformat_minor": 5
}
