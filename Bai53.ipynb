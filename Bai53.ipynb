{
 "cells": [
  {
   "cell_type": "code",
   "execution_count": 5,
   "id": "42228cd1",
   "metadata": {},
   "outputs": [],
   "source": [
    "from sympy import *\n",
    "import numpy as np"
   ]
  },
  {
   "cell_type": "code",
   "execution_count": 6,
   "id": "b7d15b49",
   "metadata": {},
   "outputs": [],
   "source": [
    "f = lambda x , y : (1 + x)/(1 + y)"
   ]
  },
  {
   "cell_type": "code",
   "execution_count": 7,
   "id": "0c80f380",
   "metadata": {},
   "outputs": [],
   "source": [
    "y = np.array([2])\n",
    "X = [1 , 1.25 , 1.5 , 1.75 , 2]"
   ]
  },
  {
   "cell_type": "code",
   "execution_count": 8,
   "id": "d4c5dcbf",
   "metadata": {},
   "outputs": [
    {
     "name": "stdout",
     "output_type": "stream",
     "text": [
      "[2.17214443]\n",
      "[2.35410204]\n",
      "[2.54436181]\n",
      "[2.74165749]\n"
     ]
    }
   ],
   "source": [
    "for n in range(4) :\n",
    "    h = X[n+1] - X[n]\n",
    "    k1 = h * f(X[n] , y)\n",
    "    k2 = h * f(X[n] + h/2 , y + k1/2)\n",
    "    k3 = h * f(X[n] + h/2 , y + k2/2)\n",
    "    k4 = h * f(X[n] + h , y + k3)\n",
    "    y = y + (k1 + 2*k2 + 2*k3 + k4)/6\n",
    "    print(y)"
   ]
  }
 ],
 "metadata": {
  "kernelspec": {
   "display_name": "Python 3",
   "language": "python",
   "name": "python3"
  },
  "language_info": {
   "codemirror_mode": {
    "name": "ipython",
    "version": 3
   },
   "file_extension": ".py",
   "mimetype": "text/x-python",
   "name": "python",
   "nbconvert_exporter": "python",
   "pygments_lexer": "ipython3",
   "version": "3.13.3"
  }
 },
 "nbformat": 4,
 "nbformat_minor": 5
}
