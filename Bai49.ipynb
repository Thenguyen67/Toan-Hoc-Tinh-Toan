{
 "cells": [
  {
   "cell_type": "code",
   "execution_count": 1,
   "id": "e884135c",
   "metadata": {},
   "outputs": [],
   "source": [
    "from sympy import *\n",
    "import numpy as np"
   ]
  },
  {
   "cell_type": "code",
   "execution_count": 2,
   "id": "b47b9c0a",
   "metadata": {},
   "outputs": [],
   "source": [
    "f = lambda x , y : np.array([y[1] , x*E**x - x + 2*y[1] - y[0]])"
   ]
  },
  {
   "cell_type": "code",
   "execution_count": 3,
   "id": "ca94c61a",
   "metadata": {},
   "outputs": [],
   "source": [
    "y = [0 , 0]\n",
    "X = [0 , 0.5 , 1]"
   ]
  },
  {
   "cell_type": "code",
   "execution_count": 6,
   "id": "aa1c150d",
   "metadata": {},
   "outputs": [
    {
     "name": "stdout",
     "output_type": "stream",
     "text": [
      "[0.628448730990749 1.41907777965653]\n",
      "[1.33798762081901 2.68611151149272]\n"
     ]
    }
   ],
   "source": [
    "for n in range(2) :\n",
    "    h = X[n+1] - X[n]\n",
    "    y = y + h * f(X[n] , y)\n",
    "    print(y)"
   ]
  }
 ],
 "metadata": {
  "kernelspec": {
   "display_name": "Python 3",
   "language": "python",
   "name": "python3"
  },
  "language_info": {
   "codemirror_mode": {
    "name": "ipython",
    "version": 3
   },
   "file_extension": ".py",
   "mimetype": "text/x-python",
   "name": "python",
   "nbconvert_exporter": "python",
   "pygments_lexer": "ipython3",
   "version": "3.13.3"
  }
 },
 "nbformat": 4,
 "nbformat_minor": 5
}
