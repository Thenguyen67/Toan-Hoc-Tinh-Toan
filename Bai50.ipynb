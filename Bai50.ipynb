{
 "cells": [
  {
   "cell_type": "code",
   "execution_count": 1,
   "id": "535bd489",
   "metadata": {},
   "outputs": [],
   "source": [
    "from sympy import *\n",
    "import numpy as np "
   ]
  },
  {
   "cell_type": "code",
   "execution_count": 3,
   "id": "737b5e68",
   "metadata": {},
   "outputs": [],
   "source": [
    "f = lambda x , y : np.array([y[1] , ((x**3)*ln(x) + 2*x*y[1] - 2*y[0])/x**2])"
   ]
  },
  {
   "cell_type": "code",
   "execution_count": 4,
   "id": "15a974c4",
   "metadata": {},
   "outputs": [],
   "source": [
    "y = [1 , 0]\n",
    "X = [1 , 1.2 , 1.4 , 1.6 , 1.8 , 2]"
   ]
  },
  {
   "cell_type": "code",
   "execution_count": 5,
   "id": "752e80af",
   "metadata": {},
   "outputs": [
    {
     "name": "stdout",
     "output_type": "stream",
     "text": [
      "[1.0 -0.400000000000000]\n",
      "[0.920000000000000 -0.767353937480562]\n",
      "[0.766529212503888 -1.08014079540474]\n",
      "[0.550501053422939 -1.31954502235102]\n",
      "[0.286592048952734 -1.46913714319056]\n"
     ]
    }
   ],
   "source": [
    "for n in range(5) :\n",
    "    h = X[n+1] - X[n]\n",
    "    y = y + h * f(X[n] , y)\n",
    "    print(y)"
   ]
  }
 ],
 "metadata": {
  "kernelspec": {
   "display_name": "Python 3",
   "language": "python",
   "name": "python3"
  },
  "language_info": {
   "codemirror_mode": {
    "name": "ipython",
    "version": 3
   },
   "file_extension": ".py",
   "mimetype": "text/x-python",
   "name": "python",
   "nbconvert_exporter": "python",
   "pygments_lexer": "ipython3",
   "version": "3.13.3"
  }
 },
 "nbformat": 4,
 "nbformat_minor": 5
}
