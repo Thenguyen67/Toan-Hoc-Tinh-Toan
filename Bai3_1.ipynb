{
 "cells": [
  {
   "cell_type": "code",
   "execution_count": 2,
   "id": "bae95f0b",
   "metadata": {},
   "outputs": [],
   "source": [
    "from sympy import *\n",
    "import numpy as np"
   ]
  },
  {
   "cell_type": "code",
   "execution_count": 3,
   "id": "db081cc5",
   "metadata": {},
   "outputs": [
    {
     "data": {
      "text/latex": [
       "$\\displaystyle e$"
      ],
      "text/plain": [
       "E"
      ]
     },
     "execution_count": 3,
     "metadata": {},
     "output_type": "execute_result"
    }
   ],
   "source": [
    "E"
   ]
  },
  {
   "cell_type": "code",
   "execution_count": 4,
   "id": "b4559b9e",
   "metadata": {},
   "outputs": [],
   "source": [
    "f = lambda x : x * E ** x - 5 "
   ]
  },
  {
   "cell_type": "code",
   "execution_count": 10,
   "id": "d668fc10",
   "metadata": {},
   "outputs": [
    {
     "data": {
      "text/latex": [
       "$\\displaystyle -2.28171817154095$"
      ],
      "text/plain": [
       "-2.28171817154095"
      ]
     },
     "execution_count": 10,
     "metadata": {},
     "output_type": "execute_result"
    }
   ],
   "source": [
    "f(1.)"
   ]
  },
  {
   "cell_type": "code",
   "execution_count": 9,
   "id": "0e7b213c",
   "metadata": {},
   "outputs": [
    {
     "data": {
      "text/latex": [
       "$\\displaystyle 55.256610769563$"
      ],
      "text/plain": [
       "55.2566107695630"
      ]
     },
     "execution_count": 9,
     "metadata": {},
     "output_type": "execute_result"
    }
   ],
   "source": [
    "f(3.)"
   ]
  },
  {
   "cell_type": "code",
   "execution_count": 11,
   "id": "bd619d7b",
   "metadata": {},
   "outputs": [],
   "source": [
    "t = symbols('x')\n",
    "df = lambda x : f(t).diff().subs(t , x)"
   ]
  },
  {
   "cell_type": "code",
   "execution_count": 12,
   "id": "2a13e07e",
   "metadata": {},
   "outputs": [
    {
     "name": "stdout",
     "output_type": "stream",
     "text": [
      "2.31223383545983\n",
      "1.76365088598362\n",
      "1.43562051630321\n"
     ]
    }
   ],
   "source": [
    "x = 3.\n",
    "for _ in range (3) :\n",
    "    x = x - f(x) / df(x)\n",
    "    print(x)"
   ]
  },
  {
   "cell_type": "code",
   "execution_count": 16,
   "id": "fe05bc1b",
   "metadata": {},
   "outputs": [
    {
     "data": {
      "text/latex": [
       "$\\displaystyle \\left(x + 2\\right) e^{x}$"
      ],
      "text/plain": [
       "(x + 2)*exp(x)"
      ]
     },
     "execution_count": 16,
     "metadata": {},
     "output_type": "execute_result"
    }
   ],
   "source": [
    "x = symbols('x')\n",
    "f(x).diff(x , 2)"
   ]
  },
  {
   "cell_type": "code",
   "execution_count": 18,
   "id": "8c26437e",
   "metadata": {},
   "outputs": [
    {
     "data": {
      "text/latex": [
       "$\\displaystyle 5 e^{3}$"
      ],
      "text/plain": [
       "5*exp(3)"
      ]
     },
     "execution_count": 18,
     "metadata": {},
     "output_type": "execute_result"
    }
   ],
   "source": [
    "(3 + 2) * E ** 3"
   ]
  },
  {
   "cell_type": "code",
   "execution_count": 19,
   "id": "20228938",
   "metadata": {},
   "outputs": [
    {
     "data": {
      "text/latex": [
       "$\\displaystyle 2 e$"
      ],
      "text/plain": [
       "2*E"
      ]
     },
     "execution_count": 19,
     "metadata": {},
     "output_type": "execute_result"
    }
   ],
   "source": [
    "M = 5 * E ** 3\n",
    "m = min (abs(df(1)) , abs(df(3)))\n",
    "m"
   ]
  },
  {
   "cell_type": "code",
   "execution_count": 21,
   "id": "65dd507d",
   "metadata": {},
   "outputs": [
    {
     "name": "stdout",
     "output_type": "stream",
     "text": [
      "1 2.31223383545983 0.59127787135787*exp(2)\n",
      "2 1.76365088598362 0.37617906557002*exp(2)\n",
      "3 1.43562051630321 0.134504904290835*exp(2)\n"
     ]
    }
   ],
   "source": [
    "x0 = 3.\n",
    "n = 0\n",
    "for _ in range (3) :\n",
    "    x = x0 - f(x0) / df(x0)\n",
    "    ss = M / 2 / m * ( x - x0 ) ** 2\n",
    "    x0 = x\n",
    "    n += 1\n",
    "    print ( n , x , ss)"
   ]
  }
 ],
 "metadata": {
  "kernelspec": {
   "display_name": "Python 3",
   "language": "python",
   "name": "python3"
  },
  "language_info": {
   "codemirror_mode": {
    "name": "ipython",
    "version": 3
   },
   "file_extension": ".py",
   "mimetype": "text/x-python",
   "name": "python",
   "nbconvert_exporter": "python",
   "pygments_lexer": "ipython3",
   "version": "3.13.3"
  }
 },
 "nbformat": 4,
 "nbformat_minor": 5
}
