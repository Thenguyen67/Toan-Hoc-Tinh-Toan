{
 "cells": [
  {
   "cell_type": "code",
   "execution_count": 1,
   "id": "46ff523d",
   "metadata": {},
   "outputs": [
    {
     "name": "stdout",
     "output_type": "stream",
     "text": [
      "   2\n",
      "2 x - 4 x + 1\n"
     ]
    }
   ],
   "source": [
    "from scipy.interpolate import lagrange\n",
    "import numpy as np\n",
    "X = np.array([-1 , 1 , 2])\n",
    "Y = np.array([7 , -1 , 1])\n",
    "P = lagrange(X , Y)\n",
    "print(P)"
   ]
  }
 ],
 "metadata": {
  "kernelspec": {
   "display_name": "Python 3",
   "language": "python",
   "name": "python3"
  },
  "language_info": {
   "codemirror_mode": {
    "name": "ipython",
    "version": 3
   },
   "file_extension": ".py",
   "mimetype": "text/x-python",
   "name": "python",
   "nbconvert_exporter": "python",
   "pygments_lexer": "ipython3",
   "version": "3.13.3"
  }
 },
 "nbformat": 4,
 "nbformat_minor": 5
}
