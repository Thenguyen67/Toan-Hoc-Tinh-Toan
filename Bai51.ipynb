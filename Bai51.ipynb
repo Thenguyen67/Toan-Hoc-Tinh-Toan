{
 "cells": [
  {
   "cell_type": "code",
   "execution_count": 5,
   "id": "2e1e4cae",
   "metadata": {},
   "outputs": [],
   "source": [
    "from sympy import *\n",
    "import numpy as np"
   ]
  },
  {
   "cell_type": "code",
   "execution_count": 6,
   "id": "5f07bebf",
   "metadata": {},
   "outputs": [],
   "source": [
    "f = lambda x , y : np.array([y[1] , y[2] , 2**x - 2*y[2] + y[1] + 2*y[0]])"
   ]
  },
  {
   "cell_type": "code",
   "execution_count": 7,
   "id": "a06a082b",
   "metadata": {},
   "outputs": [],
   "source": [
    "y = [1 , 2 , 0]\n",
    "X = [0 , 0.3 , 0.6 , 0.9 , 1.2 , 1.5 , 1.8 , 2.1 , 2.4 , 2.7 , 3]"
   ]
  },
  {
   "cell_type": "code",
   "execution_count": 8,
   "id": "5c1f74fd",
   "metadata": {},
   "outputs": [
    {
     "name": "stdout",
     "output_type": "stream",
     "text": [
      "[1.6 2.  1.5]\n",
      "[2.2        2.45       2.52934332]\n",
      "[2.935     3.208803  3.5214523]\n",
      "[3.8976409  4.26523869 4.69204161]\n",
      "[5.17721251 5.67285117 6.1841918 ]\n",
      "[6.87906786 7.52810871 8.13038771]\n",
      "[ 9.13750047  9.96722503 10.68268909]\n",
      "[12.12766798 13.17203175 14.03187158]\n",
      "[16.0792775  17.38159323 18.42436844]\n",
      "[21.29375547 22.90890376 24.1811976 ]\n"
     ]
    }
   ],
   "source": [
    "for n in range(10) :\n",
    "    h = X[n+1] - X[n]\n",
    "    y = y + h * f(X[n] , y)\n",
    "    print(y)"
   ]
  }
 ],
 "metadata": {
  "kernelspec": {
   "display_name": "Python 3",
   "language": "python",
   "name": "python3"
  },
  "language_info": {
   "codemirror_mode": {
    "name": "ipython",
    "version": 3
   },
   "file_extension": ".py",
   "mimetype": "text/x-python",
   "name": "python",
   "nbconvert_exporter": "python",
   "pygments_lexer": "ipython3",
   "version": "3.13.3"
  }
 },
 "nbformat": 4,
 "nbformat_minor": 5
}
