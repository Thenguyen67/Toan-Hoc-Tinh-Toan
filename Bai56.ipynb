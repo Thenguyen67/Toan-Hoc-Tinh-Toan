{
 "cells": [
  {
   "cell_type": "code",
   "execution_count": 21,
   "id": "2ea8e943",
   "metadata": {},
   "outputs": [],
   "source": [
    "from sympy import *\n",
    "import numpy as np"
   ]
  },
  {
   "cell_type": "code",
   "execution_count": 22,
   "id": "0ad5e9bb",
   "metadata": {},
   "outputs": [],
   "source": [
    "f = lambda x , y : np.array([Rational(1 , 9)*y[0] - Rational(2 , 3)*y[1] - Rational(1 , 9)*x**2 + Rational(2 , 3) , y[1] + 3*x - 4])"
   ]
  },
  {
   "cell_type": "code",
   "execution_count": 23,
   "id": "701dde60",
   "metadata": {},
   "outputs": [],
   "source": [
    "y = [-3 , 5]\n",
    "X = [0 , 0.5 , 1 , 1.5 , 2]"
   ]
  },
  {
   "cell_type": "code",
   "execution_count": 24,
   "id": "61431619",
   "metadata": {},
   "outputs": [
    {
     "name": "stdout",
     "output_type": "stream",
     "text": [
      "[-4.69531339306127 6.09375]\n",
      "[-7.15204041135986 8.869384765625]\n",
      "[-11.1881289223428 14.417501449584961]\n",
      "[-18.1519148620315 24.53588129580021]\n"
     ]
    }
   ],
   "source": [
    "for n in range(4) :\n",
    "    h = X[n+1] - X[n]\n",
    "    k1 = h * f(X[n] , y)\n",
    "    k2 = h * f(X[n] + h/2 , y + k1/2)\n",
    "    k3 = h * f(X[n] + h/2 , y + k2/2)\n",
    "    k4 = h * f(X[n] + h , y + k3)\n",
    "    y = y + (k1 + 2*k2 + 2*k3 + k4)/6\n",
    "    print(y)"
   ]
  }
 ],
 "metadata": {
  "kernelspec": {
   "display_name": "Python 3",
   "language": "python",
   "name": "python3"
  },
  "language_info": {
   "codemirror_mode": {
    "name": "ipython",
    "version": 3
   },
   "file_extension": ".py",
   "mimetype": "text/x-python",
   "name": "python",
   "nbconvert_exporter": "python",
   "pygments_lexer": "ipython3",
   "version": "3.13.3"
  }
 },
 "nbformat": 4,
 "nbformat_minor": 5
}
