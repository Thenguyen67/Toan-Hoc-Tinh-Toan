{
 "cells": [
  {
   "cell_type": "code",
   "execution_count": 6,
   "id": "90960e94",
   "metadata": {},
   "outputs": [],
   "source": [
    "import numpy as np\n",
    "f = lambda x , y : np.array([y[1] , y[2] , x * y[2] - y[0]])"
   ]
  },
  {
   "cell_type": "code",
   "execution_count": 8,
   "id": "cab833be",
   "metadata": {},
   "outputs": [],
   "source": [
    "X = [-1 , -0.8 , -0.6 , -0.5]"
   ]
  },
  {
   "cell_type": "code",
   "execution_count": 10,
   "id": "973b740b",
   "metadata": {},
   "outputs": [
    {
     "name": "stdout",
     "output_type": "stream",
     "text": [
      "[ 1.  -0.4 -1.8]\n",
      "[ 0.92  -0.76  -1.712]\n",
      "[ 0.844   -0.9312  -1.70128]\n"
     ]
    }
   ],
   "source": [
    "y = np.array([1 , 0 , -2])\n",
    "for n in range (3) :\n",
    "    h = X[n + 1] - X[n]\n",
    "    y = y + h * f(X[n] , y)\n",
    "    print(y)"
   ]
  }
 ],
 "metadata": {
  "kernelspec": {
   "display_name": "Python 3",
   "language": "python",
   "name": "python3"
  },
  "language_info": {
   "codemirror_mode": {
    "name": "ipython",
    "version": 3
   },
   "file_extension": ".py",
   "mimetype": "text/x-python",
   "name": "python",
   "nbconvert_exporter": "python",
   "pygments_lexer": "ipython3",
   "version": "3.13.3"
  }
 },
 "nbformat": 4,
 "nbformat_minor": 5
}
